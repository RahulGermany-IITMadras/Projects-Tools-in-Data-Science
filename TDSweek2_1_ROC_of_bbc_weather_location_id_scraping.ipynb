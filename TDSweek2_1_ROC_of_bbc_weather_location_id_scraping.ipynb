{
  "nbformat": 4,
  "nbformat_minor": 0,
  "metadata": {
    "kernelspec": {
      "display_name": "Python 3",
      "language": "python",
      "name": "python3"
    },
    "language_info": {
      "codemirror_mode": {
        "name": "ipython",
        "version": 3
      },
      "file_extension": ".py",
      "mimetype": "text/x-python",
      "name": "python",
      "nbconvert_exporter": "python",
      "pygments_lexer": "ipython3",
      "version": "3.8.5"
    },
    "colab": {
      "provenance": []
    }
  },
  "cells": [
    {
      "cell_type": "markdown",
      "metadata": {
        "id": "WsVuzd8zBh1h"
      },
      "source": [
        "#Week 2 ROE Preparation (2024 July)\n",
        "# To scrape the location ID of any city in BBC Weather.\n",
        "\n",
        "This code snippet takes city name as input and it hits the BBC Weather API with a request for location ID. This location ID is used as input in the next part of the code to scrape weather forecast for the city using this location ID.  \n",
        "\n",
        "*Web scraping might not be legal always. It is a good idea to check the terms of the website you plan to scrape before proceeding. Also, if your code requests a url from a server multiple times, it is a good practice to either cache your requests, or insert a timed delay between consecutive requests.*"
      ]
    },
    {
      "cell_type": "code",
      "metadata": {
        "id": "FVSmmYGpCBvc"
      },
      "source": [
        "import json\n",
        "import requests\n",
        "from urllib.parse import urlencode"
      ],
      "execution_count": 17,
      "outputs": []
    },
    {
      "cell_type": "code",
      "metadata": {
        "id": "XK0bYqe9DAFs",
        "colab": {
          "base_uri": "https://localhost:8080/",
          "height": 71
        },
        "outputId": "272f5341-6123-4e25-ecaf-f1e2ecf6876a"
      },
      "source": [
        "test_city = \"Bangalore\"\n",
        "location_url = 'https://locator-service.api.bbci.co.uk/locations?' + urlencode({\n",
        "   'api_key': 'AGbFAKx58hyjQScCXIYrxuEwJh2W2cmv',\n",
        "   's': test_city,\n",
        "   'stack': 'aws',\n",
        "   'locale': 'en',\n",
        "   'filter': 'international',\n",
        "   'place-types': 'settlement,airport,district',\n",
        "   'order': 'importance',\n",
        "   'a': 'true',\n",
        "   'format': 'json'\n",
        "})\n",
        "location_url"
      ],
      "execution_count": 18,
      "outputs": [
        {
          "output_type": "execute_result",
          "data": {
            "text/plain": [
              "'https://locator-service.api.bbci.co.uk/locations?api_key=AGbFAKx58hyjQScCXIYrxuEwJh2W2cmv&s=Bangalore&stack=aws&locale=en&filter=international&place-types=settlement%2Cairport%2Cdistrict&order=importance&a=true&format=json'"
            ],
            "application/vnd.google.colaboratory.intrinsic+json": {
              "type": "string"
            }
          },
          "metadata": {},
          "execution_count": 18
        }
      ]
    },
    {
      "cell_type": "code",
      "metadata": {
        "id": "5fXGZdiUDPTs",
        "colab": {
          "base_uri": "https://localhost:8080/"
        },
        "outputId": "178400e6-6017-460a-a3e9-b1645513200a"
      },
      "source": [
        "result = requests.get(location_url).json()\n",
        "result"
      ],
      "execution_count": 19,
      "outputs": [
        {
          "output_type": "execute_result",
          "data": {
            "text/plain": [
              "{'response': {'results': {'results': [{'id': '1277333',\n",
              "     'name': 'Bangalore',\n",
              "     'container': 'India',\n",
              "     'containerId': 1269750,\n",
              "     'language': 'en',\n",
              "     'timezone': 'Asia/Kolkata',\n",
              "     'country': 'IN',\n",
              "     'latitude': 12.97194,\n",
              "     'longitude': 77.59369,\n",
              "     'placeType': 'settlement'}],\n",
              "   'totalResults': 1}}}"
            ]
          },
          "metadata": {},
          "execution_count": 19
        }
      ]
    },
    {
      "cell_type": "code",
      "metadata": {
        "id": "rXM4oYcwDgzC",
        "colab": {
          "base_uri": "https://localhost:8080/",
          "height": 36
        },
        "outputId": "1527e223-371c-48ff-e0c8-b7d664d0d73f"
      },
      "source": [
        "# Print location id\n",
        "result['response']['results']['results'][0]['id']"
      ],
      "execution_count": 20,
      "outputs": [
        {
          "output_type": "execute_result",
          "data": {
            "text/plain": [
              "'1277333'"
            ],
            "application/vnd.google.colaboratory.intrinsic+json": {
              "type": "string"
            }
          },
          "metadata": {},
          "execution_count": 20
        }
      ]
    },
    {
      "cell_type": "markdown",
      "metadata": {
        "id": "z7-r0mgnDrS2"
      },
      "source": [
        "# Creating a function to output location id by taking any city name as input."
      ]
    },
    {
      "cell_type": "code",
      "metadata": {
        "id": "JvWzOsPVBhmX"
      },
      "source": [
        "def getlocid(city):\n",
        "    city = city.lower() # convert city name to lowercase to standardize format\n",
        "    # Convert into an API call using URL encoding\n",
        "    location_url = 'https://locator-service.api.bbci.co.uk/locations?' + urlencode({\n",
        "      'api_key': 'AGbFAKx58hyjQScCXIYrxuEwJh2W2cmv',\n",
        "      's': city,\n",
        "      'stack': 'aws',\n",
        "      'locale': 'en',\n",
        "      'filter': 'international',\n",
        "      'place-types': 'settlement,airport,district',\n",
        "      'order': 'importance',\n",
        "      'a': 'true',\n",
        "      'format': 'json'\n",
        "    })\n",
        "    result = requests.get(location_url).json()\n",
        "    locid = result['response']['results']['results'][0]['id']\n",
        "    return locid"
      ],
      "execution_count": 22,
      "outputs": []
    },
    {
      "cell_type": "code",
      "metadata": {
        "id": "KEiuQasXBhal",
        "colab": {
          "base_uri": "https://localhost:8080/",
          "height": 36
        },
        "outputId": "ecd16141-a001-4f65-e60d-0d90a1e5a9a2"
      },
      "source": [
        "getlocid('paris')"
      ],
      "execution_count": 23,
      "outputs": [
        {
          "output_type": "execute_result",
          "data": {
            "text/plain": [
              "'2988507'"
            ],
            "application/vnd.google.colaboratory.intrinsic+json": {
              "type": "string"
            }
          },
          "metadata": {},
          "execution_count": 23
        }
      ]
    },
    {
      "cell_type": "markdown",
      "source": [
        "This is the first step to getting additional data about a city's weather from the BBC Weather API."
      ],
      "metadata": {
        "id": "-Ti1v88NWig-"
      }
    }
  ]
}