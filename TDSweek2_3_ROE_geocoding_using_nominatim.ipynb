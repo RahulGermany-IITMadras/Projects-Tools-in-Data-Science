{
  "nbformat": 4,
  "nbformat_minor": 0,
  "metadata": {
    "colab": {
      "provenance": []
    },
    "kernelspec": {
      "name": "python3",
      "display_name": "Python 3"
    },
    "language_info": {
      "name": "python"
    }
  },
  "cells": [
    {
      "cell_type": "markdown",
      "metadata": {
        "id": "Iyk0ElaXIlm2"
      },
      "source": [
        "# Week 2 Data Sourcing Scraping using Geocoding API of Open Street Maps (OSM)\n",
        "We would be using the Nominatim API to scrape geocoding information of any open ended address text using Python."
      ]
    },
    {
      "cell_type": "code",
      "metadata": {
        "id": "-LuNOEOgE8SR"
      },
      "source": [
        "# No need to install these if using Google Colab\n",
        "# !pip install geopandas\n",
        "# !pip install geopy"
      ],
      "execution_count": 1,
      "outputs": []
    },
    {
      "cell_type": "code",
      "metadata": {
        "id": "5a-bYKeFE8Pu"
      },
      "source": [
        "# import the nominatim library\n",
        "from geopy.geocoders import Nominatim"
      ],
      "execution_count": 33,
      "outputs": []
    },
    {
      "cell_type": "code",
      "metadata": {
        "id": "Ehpfh17zE8Nh"
      },
      "source": [
        "# activate nominatim geocoder\n",
        "# NOTE: replace \"myGeoCoder\" with your email ID if you get a HTTP Error 403.\n",
        "# myGeoCoder replaced with my email id as i got HTTP error 403\n",
        "locator = Nominatim(user_agent=\"vijayanand@yahoo.com\")\n",
        "\n",
        "# type any address text\n",
        "location = locator.geocode(\"Clarence public school, Bangalore\")"
      ],
      "execution_count": 22,
      "outputs": []
    },
    {
      "cell_type": "code",
      "metadata": {
        "colab": {
          "base_uri": "https://localhost:8080/"
        },
        "id": "xf7vfNMoE8LT",
        "outputId": "dc581b47-bb2d-414d-ee2a-2a34440ca679"
      },
      "source": [
        "# print lattitude and longitude of the address\n",
        "print(\"Latitude = {}, Longitude = {}\".format(location.latitude, location.longitude))"
      ],
      "execution_count": 23,
      "outputs": [
        {
          "output_type": "stream",
          "name": "stdout",
          "text": [
            "Latitude = 12.9036062, Longitude = 77.5958873149747\n"
          ]
        }
      ]
    },
    {
      "cell_type": "code",
      "metadata": {
        "colab": {
          "base_uri": "https://localhost:8080/"
        },
        "id": "Ah4sD11EFfjp",
        "outputId": "c983e597-3f97-4cd3-f88c-9a21ef103f08"
      },
      "source": [
        "# The API output has multiple other details as a json like altitude, lattitude, longitude, correct raw addres, etc.\n",
        "# Print all the informaton\n",
        "location.raw,location.point,location.longitude,location.latitude,location.altitude,location.address"
      ],
      "execution_count": 24,
      "outputs": [
        {
          "output_type": "execute_result",
          "data": {
            "text/plain": [
              "({'place_id': 382296942,\n",
              "  'licence': 'Data © OpenStreetMap contributors, ODbL 1.0. http://osm.org/copyright',\n",
              "  'osm_type': 'way',\n",
              "  'osm_id': 1249829839,\n",
              "  'lat': '12.9036062',\n",
              "  'lon': '77.5958873149747',\n",
              "  'class': 'amenity',\n",
              "  'type': 'school',\n",
              "  'place_rank': 30,\n",
              "  'importance': 7.094453345536e-05,\n",
              "  'addresstype': 'amenity',\n",
              "  'name': 'Clarence Public School',\n",
              "  'display_name': 'Clarence Public School, 4th Main Road, Dollars Colony, JP Nagar 4th Phase, JP Nagar, Bangalore South, Bengaluru Urban, Karnataka, 560078, India',\n",
              "  'boundingbox': ['12.9032283', '12.9037823', '77.5955712', '77.5961952']},\n",
              " Point(12.9036062, 77.5958873149747, 0.0),\n",
              " 77.5958873149747,\n",
              " 12.9036062,\n",
              " 0.0,\n",
              " 'Clarence Public School, 4th Main Road, Dollars Colony, JP Nagar 4th Phase, JP Nagar, Bangalore South, Bengaluru Urban, Karnataka, 560078, India')"
            ]
          },
          "metadata": {},
          "execution_count": 24
        }
      ]
    },
    {
      "cell_type": "code",
      "metadata": {
        "id": "ylYQlNgXFuLc"
      },
      "source": [
        "# Try another address\n",
        "location2 = locator.geocode(\"Kelamangalam\")"
      ],
      "execution_count": 31,
      "outputs": []
    },
    {
      "cell_type": "code",
      "metadata": {
        "colab": {
          "base_uri": "https://localhost:8080/"
        },
        "id": "d8fQUnnVF9rc",
        "outputId": "4424f7ee-0e65-45a1-d9a4-8a91b6b4fd59"
      },
      "source": [
        "# Print all the informaton\n",
        "location2.raw,location2.point,location2.longitude,location2.latitude,location2.altitude,location2.address"
      ],
      "execution_count": 32,
      "outputs": [
        {
          "output_type": "execute_result",
          "data": {
            "text/plain": [
              "({'place_id': 248745841,\n",
              "  'licence': 'Data © OpenStreetMap contributors, ODbL 1.0. http://osm.org/copyright',\n",
              "  'osm_type': 'node',\n",
              "  'osm_id': 245608005,\n",
              "  'lat': '12.6063312',\n",
              "  'lon': '77.860228',\n",
              "  'class': 'place',\n",
              "  'type': 'village',\n",
              "  'place_rank': 19,\n",
              "  'importance': 0.14673009155413133,\n",
              "  'addresstype': 'village',\n",
              "  'name': 'Kelamangalam',\n",
              "  'display_name': 'Kelamangalam, Denkanikottai, Krishnagiri, Tamil Nadu, 635113, India',\n",
              "  'boundingbox': ['12.5863312', '12.6263312', '77.8402280', '77.8802280']},\n",
              " Point(12.6063312, 77.860228, 0.0),\n",
              " 77.860228,\n",
              " 12.6063312,\n",
              " 0.0,\n",
              " 'Kelamangalam, Denkanikottai, Krishnagiri, Tamil Nadu, 635113, India')"
            ]
          },
          "metadata": {},
          "execution_count": 32
        }
      ]
    },
    {
      "cell_type": "markdown",
      "source": [
        "Find Reverse"
      ],
      "metadata": {
        "id": "qTKgGauVzoKE"
      }
    },
    {
      "cell_type": "code",
      "source": [
        "from geopy.geocoders import Nominatim\n",
        "geolocator = Nominatim(user_agent=\"my_application\")\n",
        "location = geolocator.reverse(\"52.509669, 13.376294\")\n",
        "print(location.address)"
      ],
      "metadata": {
        "colab": {
          "base_uri": "https://localhost:8080/"
        },
        "id": "_tag6EItzpkH",
        "outputId": "335ad8a0-b510-4def-d15d-4b69ca4808f5"
      },
      "execution_count": 35,
      "outputs": [
        {
          "output_type": "stream",
          "name": "stdout",
          "text": [
            "Potsdamer Platz, Tiergarten, Mitte, Berlin, 10785, Deutschland\n"
          ]
        }
      ]
    },
    {
      "cell_type": "code",
      "source": [
        "print((location.latitude, location.longitude))"
      ],
      "metadata": {
        "colab": {
          "base_uri": "https://localhost:8080/"
        },
        "id": "x7Y1zb4D0JbN",
        "outputId": "67bb2d5b-0155-4d75-c8b5-65821b581f20"
      },
      "execution_count": 36,
      "outputs": [
        {
          "output_type": "stream",
          "name": "stdout",
          "text": [
            "(52.5098014, 13.375589791291057)\n"
          ]
        }
      ]
    },
    {
      "cell_type": "code",
      "source": [
        "print(location.raw)"
      ],
      "metadata": {
        "colab": {
          "base_uri": "https://localhost:8080/"
        },
        "id": "ozt6GrdB0Pe9",
        "outputId": "19361142-d7b5-4f8d-c515-addfd5458852"
      },
      "execution_count": 37,
      "outputs": [
        {
          "output_type": "stream",
          "name": "stdout",
          "text": [
            "{'place_id': 159352748, 'licence': 'Data © OpenStreetMap contributors, ODbL 1.0. http://osm.org/copyright', 'osm_type': 'relation', 'osm_id': 3200536, 'lat': '52.5098014', 'lon': '13.375589791291057', 'class': 'tourism', 'type': 'attraction', 'place_rank': 30, 'importance': 0.46425366719579836, 'addresstype': 'tourism', 'name': 'Potsdamer Platz', 'display_name': 'Potsdamer Platz, Tiergarten, Mitte, Berlin, 10785, Deutschland', 'address': {'tourism': 'Potsdamer Platz', 'road': 'Potsdamer Platz', 'suburb': 'Tiergarten', 'borough': 'Mitte', 'city': 'Berlin', 'ISO3166-2-lvl4': 'DE-BE', 'postcode': '10785', 'country': 'Deutschland', 'country_code': 'de'}, 'boundingbox': ['52.5082999', '52.5100442', '13.3750548', '13.3769528']}\n"
          ]
        }
      ]
    }
  ]
}